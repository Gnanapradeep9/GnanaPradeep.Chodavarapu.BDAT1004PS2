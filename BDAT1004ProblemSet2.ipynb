{
  "nbformat": 4,
  "nbformat_minor": 0,
  "metadata": {
    "colab": {
      "provenance": []
    },
    "kernelspec": {
      "name": "python3",
      "display_name": "Python 3"
    },
    "language_info": {
      "name": "python"
    }
  },
  "cells": [
    {
      "cell_type": "markdown",
      "source": [
        "# Question 1\n",
        "Consider the following Python module:\n",
        "a = 0\n",
        "def b():\n",
        " global a\n",
        " a = c(a)\n",
        "def c(a):\n",
        " return a + 2\n",
        "After importing the module into the interpreter, you execute:\n",
        ">>> b()\n",
        ">>> b()\n",
        ">>> b()\n",
        ">>> a\n",
        "?\n",
        "What value is displayed when the last expression (a) is evaluated? Explain your\n",
        "answer by indicating what happens in every executed statement."
      ],
      "metadata": {
        "id": "kORjjB7mUAE2"
      }
    },
    {
      "cell_type": "code",
      "source": [
        "import q1module as Q1\n",
        "\n",
        "# Using the functions and variables from the module\n",
        "Q1.b()\n",
        "Q1.b()\n",
        "Q1.b()\n",
        "print(Q1.a)\n"
      ],
      "metadata": {
        "colab": {
          "base_uri": "https://localhost:8080/"
        },
        "id": "3ds8ThM3TZrr",
        "outputId": "13424274-c0ee-4dc5-e192-5684e3a2e656"
      },
      "execution_count": null,
      "outputs": [
        {
          "output_type": "stream",
          "name": "stdout",
          "text": [
            "6\n"
          ]
        }
      ]
    },
    {
      "cell_type": "markdown",
      "source": [
        "# Question 2\n",
        "\n",
        "Function fileLength(), given to you, takes the name of a file as input and returns\n",
        "the length of the file:\n",
        ">>> fileLength('midterm.py')\n",
        "284\n",
        ">>> fileLength('idterm.py')\n",
        "Traceback (most recent call last):\n",
        "File \"<pyshell#34>\", line 1, in <module>\n",
        " fileLength('idterm.py')\n",
        "File \"/Users/me/midterm.py\", line 3, in fileLength\n",
        " infile = open(filename)\n",
        "FileNotFoundError: [Errno 2] No such file or directory:\n",
        "'idterm.py'\n",
        "As shown above, if the file cannot be found by the interpreter or if it cannot be read\n",
        "as a text file, an exception will be raised. Modify function fileLength() so that a\n",
        "friendly message is printed instead:\n",
        ">>> fileLength('midterm.py')\n",
        "358\n",
        ">>> fileLength('idterm.py')\n",
        "File idterm.py not found.\n"
      ],
      "metadata": {
        "id": "gLtN10kDNL66"
      }
    },
    {
      "cell_type": "code",
      "source": [
        "\n",
        "def file_length(file_name):\n",
        "    try:\n",
        "        with open(file_name) as file:\n",
        "            contents = file.read()\n",
        "            print(len(contents))\n",
        "    except FileNotFoundError:\n",
        "        print(f\"File {file_name} not found.\")\n",
        "\n",
        "# Test with the uploaded file (i renamed the file name of filelength.txt as midterm.py)\n",
        "file_length('midterm.py')\n",
        "\n",
        "# Test with a non-existent file\n",
        "file_length('idterm.py')\n"
      ],
      "metadata": {
        "colab": {
          "base_uri": "https://localhost:8080/"
        },
        "id": "LOrSUT6WLeQp",
        "outputId": "81b307a8-ab2d-480c-8068-dcecc8dd79da"
      },
      "execution_count": 23,
      "outputs": [
        {
          "output_type": "stream",
          "name": "stdout",
          "text": [
            "311\n",
            "File idterm.py not found.\n"
          ]
        }
      ]
    },
    {
      "cell_type": "markdown",
      "source": [
        "The Value is \"6\" When I executed the last Statement.\n",
        "Here a is declared as a global variable so when i first called the b() function it was updated as 2. Three upgrades of a were performed after three calls to b().\n",
        "So, a has a final value of 6.\n"
      ],
      "metadata": {
        "id": "NTdD3GSjT-xa"
      }
    },
    {
      "cell_type": "markdown",
      "source": [
        "# Question 3\n",
        "\n",
        "Write a class named Marsupial that can be used as shown below:\n",
        ">>> m = Marsupial()\n",
        ">>> m.put_in_pouch('doll')\n",
        ">>> m.put_in_pouch('firetruck')\n",
        ">>> m.put_in_pouch('kitten')\n",
        ">>> m.pouch_contents()\n",
        "['doll', 'firetruck', 'kitten']\n",
        "\n",
        "Now write a class named Kangaroo as a subclass of Marsupial that inherits all the\n",
        "attributes of Marsupial and also:\n",
        "a. extends the Marsupial __init__ constructor to take, as input, the\n",
        "coordinates x and y of the Kangaroo object,\n",
        "b. supports method jump that takes number values dx and dy as input and\n",
        "moves the kangaroo by dx units along the x-axis and by dy units along the yaxis, and\n",
        "c. overloads the __str__ operator so it behaves as shown below.\n",
        "\n",
        ">>> k = Kangaroo(0,0)\n",
        ">>> print(k)\n",
        "I am a Kangaroo located at coordinates (0,0)\n",
        ">>> k.put_in_pouch('doll')\n",
        ">>> k.put_in_pouch('firetruck')\n",
        ">>> k.put_in_pouch('kitten')\n",
        ">>> k.pouch_contents()\n",
        "['doll', 'firetruck', 'kitten']\n",
        ">>> k.jump(1,0)\n",
        ">>> k.jump(1,0)\n",
        ">>> k.jump(1,0)\n",
        ">>> print(k)\n",
        "I am a Kangaroo located at coordinates (3,0)"
      ],
      "metadata": {
        "id": "sk1nBSgbKful"
      }
    },
    {
      "cell_type": "code",
      "source": [
        "class Marsupial:\n",
        "    def __init__(self):\n",
        "        self.pouch = []\n",
        "\n",
        "    def put_in_pouch(self, item):\n",
        "        self.pouch.append(item)\n",
        "\n",
        "    def pouch_contents(self):\n",
        "        return self.pouch\n",
        "\n",
        "class Kangaroo(Marsupial):\n",
        "    def __init__(self, x, y):\n",
        "        super().__init__()\n",
        "        self.x = x\n",
        "        self.y = y\n",
        "\n",
        "    def jump(self, dx, dy):\n",
        "        self.x += dx\n",
        "        self.y += dy\n",
        "\n",
        "    def __str__(self):\n",
        "        return f'I am a Kangaroo located at coordinates ({self.x},{self.y})'\n",
        "\n",
        "# Testing the classes\n",
        "m = Marsupial()\n",
        "m.put_in_pouch('doll')\n",
        "m.put_in_pouch('firetruck')\n",
        "m.put_in_pouch('kitten')\n",
        "print(m.pouch_contents())  # ['doll', 'firetruck', 'kitten']\n",
        "\n",
        "k = Kangaroo(0, 0)\n",
        "print(k)  # I am a Kangaroo located at coordinates (0,0)\n",
        "k.put_in_pouch('doll')\n",
        "k.put_in_pouch('firetruck')\n",
        "k.put_in_pouch('kitten')\n",
        "print(k.pouch_contents())  # ['doll', 'firetruck', 'kitten']\n",
        "k.jump(1, 0)\n",
        "k.jump(1, 0)\n",
        "k.jump(1, 0)\n",
        "print(k)  # I am a Kangaroo located at coordinates (3,0)\n"
      ],
      "metadata": {
        "colab": {
          "base_uri": "https://localhost:8080/"
        },
        "id": "56wZUiJVKfZN",
        "outputId": "ea61924c-9cc4-4d1c-b01d-2ff2a40a37c3"
      },
      "execution_count": null,
      "outputs": [
        {
          "output_type": "stream",
          "name": "stdout",
          "text": [
            "['doll', 'firetruck', 'kitten']\n",
            "I am a Kangaroo located at coordinates (0,0)\n",
            "['doll', 'firetruck', 'kitten']\n",
            "I am a Kangaroo located at coordinates (3,0)\n"
          ]
        }
      ]
    },
    {
      "cell_type": "markdown",
      "source": [
        "# Question 4\n",
        "Write function collatz() that takes a positive integer x as input and prints the\n",
        "Collatz sequence starting at x. A Collatz sequence is obtained by repeatedly applying\n",
        "this rule to the previous number x in the sequence:\n",
        "x = {\n",
        "𝑥/2 𝑖𝑓 𝑥 𝑖𝑠 𝑒𝑣𝑒𝑛\n",
        "3𝑥 + 1 𝑖𝑓 𝑥 𝑖𝑠 𝑜𝑑𝑑\n",
        "Your function should stop when the sequence gets to number 1. Your\n",
        "implementation must be recursive, without any loops.\n"
      ],
      "metadata": {
        "id": "fxNk2-fMHAyX"
      }
    },
    {
      "cell_type": "code",
      "source": [
        "def collatz(x):\n",
        "    print(x)\n",
        "    if x == 1:\n",
        "        return\n",
        "    elif x % 2 == 0:\n",
        "        collatz(x // 2)\n",
        "    else:\n",
        "        collatz(3 * x + 1)\n",
        "\n",
        "# Testing the function\n",
        "\n",
        "collatz(1)\n"
      ],
      "metadata": {
        "colab": {
          "base_uri": "https://localhost:8080/"
        },
        "id": "4qhlpzBVGwwE",
        "outputId": "a9344662-5990-47f3-f4a1-64705ad171b7"
      },
      "execution_count": 20,
      "outputs": [
        {
          "output_type": "stream",
          "name": "stdout",
          "text": [
            "1\n"
          ]
        }
      ]
    },
    {
      "cell_type": "code",
      "source": [
        "collatz(10)"
      ],
      "metadata": {
        "colab": {
          "base_uri": "https://localhost:8080/"
        },
        "id": "YK1t0ntRSn8h",
        "outputId": "479b3d2d-2346-4ec6-cba7-38db36eeb156"
      },
      "execution_count": 21,
      "outputs": [
        {
          "output_type": "stream",
          "name": "stdout",
          "text": [
            "10\n",
            "5\n",
            "16\n",
            "8\n",
            "4\n",
            "2\n",
            "1\n"
          ]
        }
      ]
    },
    {
      "cell_type": "markdown",
      "source": [
        "# Question 5\n",
        "Write a recursive method binary() that takes a non-negative\n",
        "integer n and prints the binary representation of integer n."
      ],
      "metadata": {
        "id": "sjYQ8V5KJ4ce"
      }
    },
    {
      "cell_type": "code",
      "source": [
        "def binary(n):\n",
        "    if n == 0:\n",
        "        print(0, end='')\n",
        "        return\n",
        "    elif n == 1:\n",
        "        print(1, end='')\n",
        "        return\n",
        "    else:\n",
        "        binary(n // 2)\n",
        "        print(n % 2, end='')\n",
        "\n",
        "# Testing the function\n",
        "\n",
        "binary(0)\n"
      ],
      "metadata": {
        "colab": {
          "base_uri": "https://localhost:8080/"
        },
        "id": "cCad3YipJ33A",
        "outputId": "9930dfe7-ba3c-4500-ca2c-efe3db917816"
      },
      "execution_count": 16,
      "outputs": [
        {
          "output_type": "stream",
          "name": "stdout",
          "text": [
            "0"
          ]
        }
      ]
    },
    {
      "cell_type": "code",
      "source": [
        "binary(1)"
      ],
      "metadata": {
        "colab": {
          "base_uri": "https://localhost:8080/"
        },
        "id": "-imJgdqtSQNp",
        "outputId": "ad1923c2-23e8-4d27-abfb-2aacf189b6b4"
      },
      "execution_count": 17,
      "outputs": [
        {
          "output_type": "stream",
          "name": "stdout",
          "text": [
            "1"
          ]
        }
      ]
    },
    {
      "cell_type": "code",
      "source": [
        "binary(3)"
      ],
      "metadata": {
        "colab": {
          "base_uri": "https://localhost:8080/"
        },
        "id": "2mpoug4ESWo1",
        "outputId": "5dafa050-14f8-4b56-a608-74b52405dfcf"
      },
      "execution_count": 18,
      "outputs": [
        {
          "output_type": "stream",
          "name": "stdout",
          "text": [
            "11"
          ]
        }
      ]
    },
    {
      "cell_type": "code",
      "source": [
        "binary(9)"
      ],
      "metadata": {
        "colab": {
          "base_uri": "https://localhost:8080/"
        },
        "id": "sQ4U4WEOSbL7",
        "outputId": "29c1eac1-731c-453b-fc90-30d1f2fe1161"
      },
      "execution_count": 19,
      "outputs": [
        {
          "output_type": "stream",
          "name": "stdout",
          "text": [
            "1001"
          ]
        }
      ]
    },
    {
      "cell_type": "markdown",
      "source": [
        "# Question 6\n",
        "Implement a class named HeadingParser that can be used to parse an HTML\n",
        "document, and retrieve and print all the headings in the document. You should\n",
        "implement your class as a subclass of HTMLParser, defined in Standard Library\n",
        "module html.parser. When fed a string containing HTML code, your class should\n",
        "print the headings, one per line and in the order in which they appear in the\n",
        "document. Each heading should be indented as follows: an h1 heading should have\n",
        "indentation 0, and h2 heading should have indentation 1, etc. Test your\n",
        "implementation using w3c.html.\n"
      ],
      "metadata": {
        "id": "Rd6diuNJR844"
      }
    },
    {
      "cell_type": "code",
      "source": [
        "from html.parser import HTMLParser\n",
        "\n",
        "class HeadingParser(HTMLParser):\n",
        "    def __init__(self):\n",
        "        super().__init__()\n",
        "        self.in_heading = False\n",
        "        self.heading_level = 0\n",
        "\n",
        "    def handle_starttag(self, tag, attrs):\n",
        "        if tag in ['h1', 'h2', 'h3', 'h4', 'h5', 'h6']:\n",
        "            self.in_heading = True\n",
        "            self.heading_level = int(tag[1])\n",
        "\n",
        "    def handle_endtag(self, tag):\n",
        "        if tag in ['h1', 'h2', 'h3', 'h4', 'h5', 'h6']:\n",
        "            self.in_heading = False\n",
        "\n",
        "    def handle_data(self, data):\n",
        "        if self.in_heading:\n",
        "            print(' ' * (self.heading_level - 1) + data.strip())\n",
        "\n",
        "# Testing the HeadingParser with the w3c.html content\n",
        "infile = open('w3c.html')\n",
        "content = infile.read()\n",
        "infile.close()\n",
        "\n",
        "hp = HeadingParser()\n",
        "hp.feed(content)\n"
      ],
      "metadata": {
        "colab": {
          "base_uri": "https://localhost:8080/"
        },
        "id": "66hEtrL2OR9f",
        "outputId": "b11bc46a-8af5-47dd-e7ff-2eb5f5f682ac"
      },
      "execution_count": 25,
      "outputs": [
        {
          "output_type": "stream",
          "name": "stdout",
          "text": [
            "W3C Mission\n",
            " Principles\n"
          ]
        }
      ]
    },
    {
      "cell_type": "markdown",
      "source": [
        "# Question 7\n",
        "Implement recursive function webdir() that takes as input: a URL (as a string) and\n",
        "non-negative integers depth and indent. Your function should visit every web\n",
        "page reachable from the starting URL web page in depth clicks or less, and print\n",
        "each web page's URL. As shown below, indentation, specified by indent, should\n",
        "be used to indicate the depth of a URL.\n",
        ">>>\n",
        "webdir('http://reed.cs.depaul.edu/lperkovic/csc242/test1.html'\n",
        ", 2, 0)\n",
        "http://reed.cs.depaul.edu/lperkovic/csc242/test1.html\n",
        " http://reed.cs.depaul.edu/lperkovic/csc242/test2.html\n",
        " http://reed.cs.depaul.edu/lperkovic/csc242/test4.html\n",
        " http://reed.cs.depaul.edu/lperkovic/csc242/test3.html\n",
        " http://reed.cs.depaul.edu/lperkovic/csc242/test4.html"
      ],
      "metadata": {
        "id": "Y1cYzdohUATp"
      }
    },
    {
      "cell_type": "code",
      "source": [
        "from urllib import request\n",
        "from urllib.parse import urlparse, urljoin\n",
        "from html.parser import HTMLParser\n",
        "\n",
        "class WebDirHTMLParser(HTMLParser):\n",
        "    def __init__(self, base_url, depth, indent, current_depth=0):\n",
        "        super().__init__()\n",
        "        self.base_url = base_url\n",
        "        self.depth = depth\n",
        "        self.indent = indent\n",
        "        self.current_depth = current_depth\n",
        "        self.visited_urls = set()\n",
        "\n",
        "    def handle_starttag(self, tag, attrs):\n",
        "        if self.current_depth < self.depth and tag == 'a':\n",
        "            for attr in attrs:\n",
        "                if attr[0] == 'href':\n",
        "                    url = urljoin(self.base_url, attr[1])\n",
        "                    if url not in self.visited_urls and urlparse(url).netloc == urlparse(self.base_url).netloc:\n",
        "                        self.visited_urls.add(url)\n",
        "                        print(' ' * self.indent * (self.current_depth + 1) + url)\n",
        "                        if self.current_depth < self.depth:\n",
        "                            self.parse_url(url, self.current_depth + 1)\n",
        "\n",
        "    def parse_url(self, url, current_depth):\n",
        "        try:\n",
        "            response = request.urlopen(url)\n",
        "            html_content = response.read().decode('utf-8')\n",
        "            parser = WebDirHTMLParser(self.base_url, self.depth, self.indent, current_depth)\n",
        "            parser.visited_urls = self.visited_urls  # share the visited URLs set\n",
        "            parser.feed(html_content)\n",
        "        except Exception as e:\n",
        "            print(f\"Failed to retrieve {url}: {e}\")\n",
        "\n",
        "def webdir(url, depth, indent):\n",
        "    parsed_url = urlparse(url)\n",
        "    base_url = parsed_url.scheme + '://' + parsed_url.netloc\n",
        "    print(url)\n",
        "    parser = WebDirHTMLParser(base_url, depth, indent)\n",
        "    parser.parse_url(url, 0)\n",
        "\n",
        "#\n",
        "webdir('http://reed.cs.depaul.edu/lperkovic/csc242/test1.html'\n",
        ", 2, 0)\n",
        "\n"
      ],
      "metadata": {
        "colab": {
          "base_uri": "https://localhost:8080/"
        },
        "id": "zweDmDGBWmDo",
        "outputId": "4e1aff5f-5c55-4697-b4cf-e847bae55385"
      },
      "execution_count": 33,
      "outputs": [
        {
          "output_type": "stream",
          "name": "stdout",
          "text": [
            "http://reed.cs.depaul.edu/lperkovic/csc242/test1.html\n",
            "Failed to retrieve http://reed.cs.depaul.edu/lperkovic/csc242/test1.html: HTTP Error 404: \n"
          ]
        }
      ]
    },
    {
      "cell_type": "markdown",
      "source": [
        "# Question 8\n",
        "Write SQL queries on the below database table that return:\n",
        "a) All the temperature data.\n",
        "b) All the cities, but without repetition.\n",
        "c) All the records for India.\n",
        "d) All the Fall records.\n",
        "e) The city, country, and season for which the average rainfall is between 200\n",
        "and 400 millimeters.\n",
        "f) The city and country for which the average Fall temperature is above 20\n",
        "degrees, in increasing temperature order.\n",
        "g) The total annual rainfall for Cairo.\n",
        "h) The total rainfall for each season.\n"
      ],
      "metadata": {
        "id": "IvSA61pUdxu5"
      }
    },
    {
      "cell_type": "code",
      "source": [
        "import sqlite3\n",
        "\n",
        "# Create a connection to a SQLite database\n",
        "conn = sqlite3.connect('weather.db')\n",
        "cursor = conn.cursor()\n",
        "\n",
        "# Create the table\n",
        "cursor.execute('''\n",
        "CREATE TABLE IF NOT EXISTS Weather (\n",
        "    City TEXT,\n",
        "    Country TEXT,\n",
        "    Season TEXT,\n",
        "    Temperature REAL,\n",
        "    Rainfall REAL\n",
        ")\n",
        "''')\n",
        "\n",
        "# Insert data into the table\n",
        "data = [\n",
        "    ('Mumbai', 'India', 'Winter', 24.8, 5.9),\n",
        "    ('Mumbai', 'India', 'Spring', 28.4, 16.2),\n",
        "    ('Mumbai', 'India', 'Summer', 27.9, 1549.4),\n",
        "    ('Mumbai', 'India', 'Fall', 27.6, 346.0),\n",
        "    ('London', 'United Kingdom', 'Winter', 4.2, 207.7),\n",
        "    ('London', 'United Kingdom', 'Spring', 8.3, 169.6),\n",
        "    ('London', 'United Kingdom', 'Summer', 15.7, 157.0),\n",
        "    ('London', 'United Kingdom', 'Fall', 10.4, 218.5),\n",
        "    ('Cairo', 'Egypt', 'Winter', 13.6, 16.5),\n",
        "    ('Cairo', 'Egypt', 'Spring', 20.7, 6.5),\n",
        "    ('Cairo', 'Egypt', 'Summer', 27.7, 0.1),\n",
        "    ('Cairo', 'Egypt', 'Fall', 22.2, 4.5)\n",
        "]\n",
        "\n",
        "# Insert the data into the Weather table\n",
        "cursor.executemany('''\n",
        "INSERT INTO Weather (City, Country, Season, Temperature, Rainfall)\n",
        "VALUES (?, ?, ?, ?, ?)\n",
        "''', data)\n",
        "\n",
        "\n",
        "conn.commit()"
      ],
      "metadata": {
        "id": "IaQ4KPqoQR32"
      },
      "execution_count": null,
      "outputs": []
    },
    {
      "cell_type": "code",
      "source": [
        "# a) All the temperature data\n",
        "qa = 'SELECT Temperature FROM Weather'\n",
        "print(\"a) All the temperature data:\")\n",
        "for row in cursor.execute(qa):\n",
        "    print(row)"
      ],
      "metadata": {
        "colab": {
          "base_uri": "https://localhost:8080/"
        },
        "id": "5sXrjwGNPi0l",
        "outputId": "a88c099a-6883-464d-ab9b-c303f484e7e3"
      },
      "execution_count": 27,
      "outputs": [
        {
          "output_type": "stream",
          "name": "stdout",
          "text": [
            "a) All the temperature data:\n",
            "(24.8,)\n",
            "(28.4,)\n",
            "(27.9,)\n",
            "(27.6,)\n",
            "(4.2,)\n",
            "(8.3,)\n",
            "(15.7,)\n",
            "(10.4,)\n",
            "(13.6,)\n",
            "(20.7,)\n",
            "(27.7,)\n",
            "(22.2,)\n",
            "(24.8,)\n",
            "(28.4,)\n",
            "(27.9,)\n",
            "(27.6,)\n",
            "(4.2,)\n",
            "(8.3,)\n",
            "(15.7,)\n",
            "(10.4,)\n",
            "(13.6,)\n",
            "(20.7,)\n",
            "(27.7,)\n",
            "(22.2,)\n"
          ]
        }
      ]
    },
    {
      "cell_type": "code",
      "source": [
        "\n",
        "# b) All the cities, but without repetition\n",
        "qb = 'SELECT DISTINCT City FROM Weather'\n",
        "print(\"\\nb) All the cities, but without repetition:\")\n",
        "for row in cursor.execute(qb):\n",
        "    print(row)"
      ],
      "metadata": {
        "colab": {
          "base_uri": "https://localhost:8080/"
        },
        "id": "Kr_hGbVedSuY",
        "outputId": "fa1019cf-1719-43a0-8b42-6d323837a67e"
      },
      "execution_count": 6,
      "outputs": [
        {
          "output_type": "stream",
          "name": "stdout",
          "text": [
            "\n",
            "b) All the cities, but without repetition:\n",
            "('Mumbai',)\n",
            "('London',)\n",
            "('Cairo',)\n"
          ]
        }
      ]
    },
    {
      "cell_type": "code",
      "source": [
        "# Query c) All the records for India\n",
        "qc = 'SELECT * FROM Weather WHERE Country = \"India\"'\n",
        "print(\"\\nc) All the records for India:\")\n",
        "for row in cursor.execute(qc):\n",
        "    print(row)\n"
      ],
      "metadata": {
        "colab": {
          "base_uri": "https://localhost:8080/"
        },
        "id": "cNwr3gDwdf6T",
        "outputId": "f3a1932d-c782-4bec-eabc-4038877ae9e4"
      },
      "execution_count": 10,
      "outputs": [
        {
          "output_type": "stream",
          "name": "stdout",
          "text": [
            "\n",
            "c) All the records for India:\n",
            "('Mumbai', 'India', 'Winter', 24.8, 5.9)\n",
            "('Mumbai', 'India', 'Spring', 28.4, 16.2)\n",
            "('Mumbai', 'India', 'Summer', 27.9, 1549.4)\n",
            "('Mumbai', 'India', 'Fall', 27.6, 346.0)\n",
            "('Mumbai', 'India', 'Winter', 24.8, 5.9)\n",
            "('Mumbai', 'India', 'Spring', 28.4, 16.2)\n",
            "('Mumbai', 'India', 'Summer', 27.9, 1549.4)\n",
            "('Mumbai', 'India', 'Fall', 27.6, 346.0)\n"
          ]
        }
      ]
    },
    {
      "cell_type": "code",
      "source": [
        "# Query d) All the Fall records\n",
        "qd = 'SELECT * FROM Weather WHERE Season = \"Fall\"'\n",
        "print(\"\\nd) All the Fall records:\")\n",
        "for row in cursor.execute(qd):\n",
        "    print(row)\n"
      ],
      "metadata": {
        "colab": {
          "base_uri": "https://localhost:8080/"
        },
        "id": "d4c8EiMldi4_",
        "outputId": "9354dd84-fbf9-4a9e-dddf-4fe7c9c136d1"
      },
      "execution_count": 11,
      "outputs": [
        {
          "output_type": "stream",
          "name": "stdout",
          "text": [
            "\n",
            "d) All the Fall records:\n",
            "('Mumbai', 'India', 'Fall', 27.6, 346.0)\n",
            "('London', 'United Kingdom', 'Fall', 10.4, 218.5)\n",
            "('Cairo', 'Egypt', 'Fall', 22.2, 4.5)\n",
            "('Mumbai', 'India', 'Fall', 27.6, 346.0)\n",
            "('London', 'United Kingdom', 'Fall', 10.4, 218.5)\n",
            "('Cairo', 'Egypt', 'Fall', 22.2, 4.5)\n"
          ]
        }
      ]
    },
    {
      "cell_type": "code",
      "source": [
        "# Query e) The city, country, and season for which the average rainfall is between 200 and 400 millimeters\n",
        "qe = '''\n",
        "SELECT City, Country, Season\n",
        "FROM Weather\n",
        "GROUP BY City, Country, Season\n",
        "HAVING AVG(Rainfall) BETWEEN 200 AND 400\n",
        "'''\n",
        "\n",
        "print(\"\\ne) The city, country, and season for which the average rainfall is between 200 and 400 millimeters:\")\n",
        "for row in cursor.execute(qe):\n",
        "    print(row)\n"
      ],
      "metadata": {
        "colab": {
          "base_uri": "https://localhost:8080/"
        },
        "id": "lQEV-IfPcjq2",
        "outputId": "cc264329-107a-4f26-900d-91f31218740a"
      },
      "execution_count": 12,
      "outputs": [
        {
          "output_type": "stream",
          "name": "stdout",
          "text": [
            "\n",
            "e) The city, country, and season for which the average rainfall is between 200 and 400 millimeters:\n",
            "('London', 'United Kingdom', 'Fall')\n",
            "('London', 'United Kingdom', 'Winter')\n",
            "('Mumbai', 'India', 'Fall')\n"
          ]
        }
      ]
    },
    {
      "cell_type": "code",
      "source": [
        "# Query f) The city and country for which the average Fall temperature is above 20 degrees, in increasing temperature order\n",
        "qf = '''\n",
        "SELECT City, Country\n",
        "FROM Weather\n",
        "WHERE Season = \"Fall\"\n",
        "GROUP BY City, Country\n",
        "HAVING AVG(Temperature) > 20\n",
        "ORDER BY AVG(Temperature) ASC\n",
        "'''\n",
        "\n",
        "print(\"\\nf) The city and country for which the average Fall temperature is above 20 degrees, in increasing temperature order:\")\n",
        "for row in cursor.execute(qf):\n",
        "    print(row)\n"
      ],
      "metadata": {
        "colab": {
          "base_uri": "https://localhost:8080/"
        },
        "id": "RMA8DE1GcjjN",
        "outputId": "b8d87792-eb93-42db-f310-aa5924fcfee9"
      },
      "execution_count": 15,
      "outputs": [
        {
          "output_type": "stream",
          "name": "stdout",
          "text": [
            "\n",
            "f) The city and country for which the average Fall temperature is above 20 degrees, in increasing temperature order:\n",
            "('Cairo', 'Egypt')\n",
            "('Mumbai', 'India')\n"
          ]
        }
      ]
    },
    {
      "cell_type": "code",
      "source": [
        "# Query g) The total annual rainfall for Cairo\n",
        "qg = '''\n",
        "SELECT SUM(Rainfall) AS Total_Annual_Rainfall\n",
        "FROM Weather\n",
        "WHERE City = \"Cairo\"\n",
        "'''\n",
        "\n",
        "print(\"\\ng) The total annual rainfall for Cairo:\")\n",
        "for row in cursor.execute(qg):\n",
        "    print(row)\n"
      ],
      "metadata": {
        "colab": {
          "base_uri": "https://localhost:8080/"
        },
        "id": "bKC8LmGhcjWg",
        "outputId": "b57ec239-2336-4c6c-ce85-2b4eebe98978"
      },
      "execution_count": 14,
      "outputs": [
        {
          "output_type": "stream",
          "name": "stdout",
          "text": [
            "\n",
            "g) The total annual rainfall for Cairo:\n",
            "(55.2,)\n"
          ]
        }
      ]
    },
    {
      "cell_type": "code",
      "source": [
        "# Query h) The total rainfall for each season\n",
        "qh = '''\n",
        "SELECT Season, SUM(Rainfall) AS Total_Rainfall\n",
        "FROM Weather\n",
        "GROUP BY Season\n",
        "'''\n",
        "\n",
        "print(\"\\nh) The total rainfall for each season:\")\n",
        "for row in cursor.execute(qh):\n",
        "    print(row)\n"
      ],
      "metadata": {
        "colab": {
          "base_uri": "https://localhost:8080/"
        },
        "id": "kBe_EJ79ci80",
        "outputId": "4a632042-955e-4dc0-cbdb-97d4e0e831b9"
      },
      "execution_count": 13,
      "outputs": [
        {
          "output_type": "stream",
          "name": "stdout",
          "text": [
            "\n",
            "h) The total rainfall for each season:\n",
            "('Fall', 1138.0)\n",
            "('Spring', 384.59999999999997)\n",
            "('Summer', 3413.0)\n",
            "('Winter', 460.2)\n"
          ]
        }
      ]
    },
    {
      "cell_type": "markdown",
      "source": [],
      "metadata": {
        "id": "qcup8_RMeEm7"
      }
    },
    {
      "cell_type": "markdown",
      "source": [
        "# Question9\n",
        "Suppose list words is defined as follows:\n",
        ">>> words = ['The', 'quick', 'brown', 'fox', 'jumps', 'over',\n",
        "'the', 'lazy', 'dog']\n",
        "Write list comprehension expressions that use list words and generate the following\n",
        "lists:"
      ],
      "metadata": {
        "id": "kKSxq39rGdKa"
      }
    },
    {
      "cell_type": "code",
      "source": [],
      "metadata": {
        "id": "o2yK3ykMeGQj"
      },
      "execution_count": null,
      "outputs": []
    },
    {
      "cell_type": "code",
      "source": [
        "words = ['The', 'quick', 'brown', 'fox', 'jumps', 'over', 'the', 'lazy', 'dog']\n",
        "\n",
        "# a) List of words in uppercase\n",
        "uppercase_words = [word.upper() for word in words]\n",
        "print(uppercase_words)\n",
        "\n",
        "\n"
      ],
      "metadata": {
        "colab": {
          "base_uri": "https://localhost:8080/"
        },
        "id": "ihv8nBRGFj6a",
        "outputId": "161693f4-3b64-487b-80ec-a949247036af"
      },
      "execution_count": null,
      "outputs": [
        {
          "output_type": "stream",
          "name": "stdout",
          "text": [
            "['THE', 'QUICK', 'BROWN', 'FOX', 'JUMPS', 'OVER', 'THE', 'LAZY', 'DOG']\n"
          ]
        }
      ]
    },
    {
      "cell_type": "code",
      "source": [
        "# b) List of words in lowercase\n",
        "lowercase_words = [word.lower() for word in words]\n",
        "print(lowercase_words)"
      ],
      "metadata": {
        "colab": {
          "base_uri": "https://localhost:8080/"
        },
        "id": "B9stXtsHF5Vp",
        "outputId": "0482dac1-1728-4413-df55-c6300eedbb73"
      },
      "execution_count": null,
      "outputs": [
        {
          "output_type": "stream",
          "name": "stdout",
          "text": [
            "['the', 'quick', 'brown', 'fox', 'jumps', 'over', 'the', 'lazy', 'dog']\n"
          ]
        }
      ]
    },
    {
      "cell_type": "code",
      "source": [
        "# c) List of lengths of words\n",
        "word_lengths = [len(word) for word in words]\n",
        "print(word_lengths)"
      ],
      "metadata": {
        "colab": {
          "base_uri": "https://localhost:8080/"
        },
        "id": "cqmJw4xSF90E",
        "outputId": "eb6983da-7eda-4723-972f-48e94d6e5498"
      },
      "execution_count": null,
      "outputs": [
        {
          "output_type": "stream",
          "name": "stdout",
          "text": [
            "[3, 5, 5, 3, 5, 4, 3, 4, 3]\n"
          ]
        }
      ]
    },
    {
      "cell_type": "code",
      "source": [
        "# d) List containing a list for every word with uppercase, lowercase, and length\n",
        "word_details = [[word.upper(), word.lower(), len(word)] for word in words]\n",
        "print(word_details)\n"
      ],
      "metadata": {
        "colab": {
          "base_uri": "https://localhost:8080/"
        },
        "id": "Mm_8eKc4GMl7",
        "outputId": "9bc45374-6e4b-44c2-ddba-78ab428edca6"
      },
      "execution_count": null,
      "outputs": [
        {
          "output_type": "stream",
          "name": "stdout",
          "text": [
            "[['THE', 'the', 3], ['QUICK', 'quick', 5], ['BROWN', 'brown', 5], ['FOX', 'fox', 3], ['JUMPS', 'jumps', 5], ['OVER', 'over', 4], ['THE', 'the', 3], ['LAZY', 'lazy', 4], ['DOG', 'dog', 3]]\n"
          ]
        }
      ]
    },
    {
      "cell_type": "code",
      "source": [
        "# e) List of words containing 4 or more characters\n",
        "long_words = [word for word in words if len(word) >= 4]\n",
        "print(long_words)"
      ],
      "metadata": {
        "colab": {
          "base_uri": "https://localhost:8080/"
        },
        "id": "zeYSgNZEGV3I",
        "outputId": "bd0b05ee-2894-44e3-8255-af3238b9a943"
      },
      "execution_count": null,
      "outputs": [
        {
          "output_type": "stream",
          "name": "stdout",
          "text": [
            "['quick', 'brown', 'jumps', 'over', 'lazy']\n"
          ]
        }
      ]
    }
  ]
}